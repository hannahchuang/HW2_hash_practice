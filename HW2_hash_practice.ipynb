{
 "cells": [
  {
   "cell_type": "code",
   "execution_count": 49,
   "id": "08a0ac85-5583-4ffd-914c-ff02aec11413",
   "metadata": {
    "tags": []
   },
   "outputs": [
    {
     "name": "stdout",
     "output_type": "stream",
     "text": [
      "出現過的英文字：['Cheese', 'Pizza', 'Coke', 'Steak', 'Burger', 'Fries', 'Rib', 'Taco', 'Pho', 'Potato']\n",
      "每一個英文字出現次數為：\n",
      "Cheese出現過233次\n",
      "Pizza出現過82次\n",
      "Coke出現過144次\n",
      "Steak出現過45次\n",
      "Burger出現過195次\n",
      "Fries出現過75次\n",
      "Rib出現過32次\n",
      "Taco出現過56次\n",
      "Pho出現過18次\n",
      "Potato出現過2次\n"
     ]
    }
   ],
   "source": [
    "dict_ = {}\n",
    "with open('./hw2_data.txt', 'r', encoding='utf-8') as file:\n",
    "    file = file.read()\n",
    "    #print(file)\n",
    "    for word in file.split():\n",
    "        if(word in dict_):\n",
    "            dict_[word]+=1\n",
    "        else:\n",
    "            dict_[word] = 0\n",
    "            \n",
    "    key1 = [key for key in dict_]\n",
    "    print(f'出現過的英文字：{key1}')\n",
    "    print(f'每一個英文字出現次數為：')\n",
    "    for key, value in dict_.items():\n",
    "        print(f'{key}出現過{value}次')"
   ]
  }
 ],
 "metadata": {
  "kernelspec": {
   "display_name": "Python 3 (ipykernel)",
   "language": "python",
   "name": "python3"
  },
  "language_info": {
   "codemirror_mode": {
    "name": "ipython",
    "version": 3
   },
   "file_extension": ".py",
   "mimetype": "text/x-python",
   "name": "python",
   "nbconvert_exporter": "python",
   "pygments_lexer": "ipython3",
   "version": "3.11.4"
  }
 },
 "nbformat": 4,
 "nbformat_minor": 5
}
